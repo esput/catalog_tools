{
 "cells": [
  {
   "cell_type": "markdown",
   "metadata": {},
   "source": [
    "# sxs_catalog_download_example"
   ]
  },
  {
   "cell_type": "markdown",
   "metadata": {},
   "source": [
    "This notebook demonstrates how to use the `sxs` python library to download data from the SXS Catalog of waveforms hosted on Zenodo (https://github.com/moble/sxs). The catalog is available at https://black-holes.org/waveforms and is described in https://arxiv.org/abs/1904.04831.\n",
    "\n",
    "You can install `sxs` via `pip install sxs`. You'll need version `2019.4.15.16.32.10` or later.\n",
    "\n",
    "Note: You should use a recent version of python 3, such as 3.6.5, to run this notebook. I installed python 3.6.5 using anaconda (https://www.anaconda.com). \n",
    "\n",
    "Note: I found I had to also install tqdm, which you can install similarly. This should be installed when you install the `sxs` library with `pip`, but in case you see errors about being unable to import `tqdm`, `pip install tqdm` solves this."
   ]
  },
  {
   "cell_type": "markdown",
   "metadata": {},
   "source": [
    "## How to download data"
   ]
  },
  {
   "cell_type": "markdown",
   "metadata": {},
   "source": [
    "This section demonstrates how to download simulation data from Zenodo. You can download data from one simulation or from multiple simulations at once."
   ]
  },
  {
   "cell_type": "code",
   "execution_count": null,
   "metadata": {},
   "outputs": [],
   "source": [
    "# Uncomment the next line if running on Microsoft Azure / Google Colaboratory\n",
    "#!pip install sxs"
   ]
  },
  {
   "cell_type": "code",
   "execution_count": null,
   "metadata": {},
   "outputs": [],
   "source": [
    "# For downloading data\n",
    "import sxs\n",
    "from sxs import zenodo as zen\n",
    "\n",
    "# For interacting with the data\n",
    "import h5py\n",
    "import numpy as np\n",
    "from matplotlib import pyplot as plt\n",
    "import json"
   ]
  },
  {
   "cell_type": "markdown",
   "metadata": {},
   "source": [
    "The next two cells download two simulations: \n",
    "- SXS:BBH:0305, created to model the first gravitational-wave observation, GW150914 (https://doi.org/10.1103/PhysRevLett.116.061102)\n",
    "- SXS:BBH:0317, created to model the second gravitational-wave observation, GW151226 (https://doi.org/10.1103/PhysRevLett.116.241103)\n",
    "\n",
    "The cells download metadata and data for the black hole horizons at multiple resolutions and the gravitational waves at the highest resolution"
   ]
  },
  {
   "cell_type": "code",
   "execution_count": null,
   "metadata": {},
   "outputs": [],
   "source": [
    "zen.download.matching(\"common-metadata.txt\", \"metadata.txt\", \"metadata.json\", \\\n",
    "                      \"Horizons.h5\", \\\n",
    "                      sxs_ids = ['SXS:BBH:0305', 'SXS:BBH:0317'], \\\n",
    "                      dry_run = False, \\\n",
    "                      highest_lev_only = False)"
   ]
  },
  {
   "cell_type": "code",
   "execution_count": null,
   "metadata": {},
   "outputs": [],
   "source": [
    "zen.download.matching(\"rhOverM_Asymptotic_GeometricUnits_CoM.h5\", \\\n",
    "                      sxs_ids = ['SXS:BBH:0305', 'SXS:BBH:0317'], \\\n",
    "                      dry_run = False, \\\n",
    "                      highest_lev_only = True)"
   ]
  },
  {
   "cell_type": "markdown",
   "metadata": {},
   "source": [
    "## Read in the downloaded data"
   ]
  },
  {
   "cell_type": "markdown",
   "metadata": {},
   "source": [
    "Read in metadata (a set of a few numbers characterizing the simulation), horizon data (such as how the black holes move and how their masses change), and gravitational-wave data (how much the waves would stretch and squeeze our detectors."
   ]
  },
  {
   "cell_type": "code",
   "execution_count": null,
   "metadata": {},
   "outputs": [],
   "source": [
    "horizons_low_res = {}\n",
    "horizons_low_res[\"SXS:BBH:0305\"] = h5py.File(\"SXS_BBH_0305/Lev2/Horizons.h5\", 'r')\n",
    "horizons_low_res[\"SXS:BBH:0317\"] = h5py.File(\"SXS_BBH_0317/Lev1/Horizons.h5\", 'r')\n",
    "\n",
    "horizons_medium_res = {}\n",
    "horizons_medium_res[\"SXS:BBH:0305\"] = h5py.File(\"SXS_BBH_0305/Lev4/Horizons.h5\", 'r')\n",
    "horizons_medium_res[\"SXS:BBH:0317\"] = h5py.File(\"SXS_BBH_0317/Lev2/Horizons.h5\", 'r')\n",
    "\n",
    "horizons_high_res = {}\n",
    "horizons_high_res[\"SXS:BBH:0305\"] = h5py.File(\"SXS_BBH_0305/Lev6/Horizons.h5\", 'r')\n",
    "horizons_high_res[\"SXS:BBH:0317\"] = h5py.File(\"SXS_BBH_0317/Lev3/Horizons.h5\", 'r')\n",
    "\n",
    "gw = {}\n",
    "gw[\"SXS:BBH:0305\"] = h5py.File(\"SXS_BBH_0305/rhOverM_Asymptotic_GeometricUnits_CoM.h5\", 'r')\n",
    "gw[\"SXS:BBH:0317\"] = h5py.File(\"SXS_BBH_0317/rhOverM_Asymptotic_GeometricUnits_CoM.h5\", 'r')\n",
    "\n",
    "metadata_low_res = {}\n",
    "with open(\"SXS_BBH_0305/Lev2/metadata.json\") as file:\n",
    "    metadata_low_res[\"SXS:BBH:0305\"] = json.load(file)\n",
    "with open(\"SXS_BBH_0317/Lev1/metadata.json\") as file:\n",
    "    metadata_low_res[\"SXS:BBH:0317\"] = json.load(file)\n",
    "    \n",
    "metadata_medium_res = {}\n",
    "with open(\"SXS_BBH_0305/Lev4/metadata.json\") as file:\n",
    "    metadata_medium_res[\"SXS:BBH:0305\"] = json.load(file)\n",
    "with open(\"SXS_BBH_0317/Lev2/metadata.json\") as file:\n",
    "    metadata_medium_res[\"SXS:BBH:0317\"] = json.load(file)\n",
    "    \n",
    "metadata_high_res = {}\n",
    "with open(\"SXS_BBH_0305/Lev6/metadata.json\") as file:\n",
    "    metadata_high_res[\"SXS:BBH:0305\"] = json.load(file)\n",
    "with open(\"SXS_BBH_0317/Lev3/metadata.json\") as file:\n",
    "    metadata_high_res[\"SXS:BBH:0317\"] = json.load(file)"
   ]
  },
  {
   "cell_type": "markdown",
   "metadata": {},
   "source": [
    "# Choose total mass and distance to binary\n",
    "\n",
    "Here, for each observation, choose how far away (in meters) the wave is from Earth, and the sum of the two black hole masses (in solar masses)."
   ]
  },
  {
   "cell_type": "code",
   "execution_count": null,
   "metadata": {},
   "outputs": [],
   "source": [
    "total_mass = {}\n",
    "total_mass[\"SXS:BBH:0305\"] = 66.2 # m_sun\n",
    "total_mass[\"SXS:BBH:0317\"] = 21.4 # m_sun\n",
    "\n",
    "distance = {}\n",
    "distance[\"SXS:BBH:0305\"] = 1.3e25 # meters\n",
    "distance[\"SXS:BBH:0317\"] = 1.3e25 # meters\n",
    "\n",
    "Goverc2m = 1.47708885e3 # meters / solar mass\n",
    "Goverc3s = 4.92703806e-6 # seconds / solar mass"
   ]
  },
  {
   "cell_type": "markdown",
   "metadata": {},
   "source": [
    "# Plot the black-hole masses"
   ]
  },
  {
   "cell_type": "code",
   "execution_count": null,
   "metadata": {},
   "outputs": [],
   "source": [
    "sxs_bbh_0305_mass1 = horizons_high_res[\"SXS:BBH:0305\"][\"AhA.dir\"][\"ChristodoulouMass.dat\"]\n",
    "sxs_bbh_0305_mass2 = horizons_high_res[\"SXS:BBH:0305\"][\"AhB.dir\"][\"ChristodoulouMass.dat\"]\n",
    "sxs_bbh_0305_massFinal = horizons_high_res[\"SXS:BBH:0305\"][\"AhC.dir\"][\"ChristodoulouMass.dat\"]\n",
    "\n",
    "plt.clf()\n",
    "plt.plot(Goverc3s * total_mass[\"SXS:BBH:0305\"] * sxs_bbh_0305_mass1[:,0], total_mass[\"SXS:BBH:0305\"] * sxs_bbh_0305_mass1[:,1], label='Mass 1')\n",
    "plt.plot(Goverc3s * total_mass[\"SXS:BBH:0305\"] * sxs_bbh_0305_mass2[:,0], total_mass[\"SXS:BBH:0305\"] * sxs_bbh_0305_mass2[:,1], label='Mass 2')\n",
    "plt.plot(Goverc3s * total_mass[\"SXS:BBH:0305\"] * sxs_bbh_0305_massFinal[:,0], total_mass[\"SXS:BBH:0305\"] * sxs_bbh_0305_massFinal[:,1], label='Final mass')\n",
    "plt.legend(loc='best')\n",
    "plt.xlabel(\"Time (seconds)\")\n",
    "plt.ylabel(\"Mass (solar masses)\")\n",
    "plt.show()"
   ]
  },
  {
   "cell_type": "code",
   "execution_count": null,
   "metadata": {},
   "outputs": [],
   "source": [
    "sxs_bbh_0317_mass1 = horizons_high_res[\"SXS:BBH:0317\"][\"AhA.dir\"][\"ChristodoulouMass.dat\"]\n",
    "sxs_bbh_0317_mass2 = horizons_high_res[\"SXS:BBH:0317\"][\"AhB.dir\"][\"ChristodoulouMass.dat\"]\n",
    "sxs_bbh_0317_massFinal = horizons_high_res[\"SXS:BBH:0317\"][\"AhC.dir\"][\"ChristodoulouMass.dat\"]\n",
    "\n",
    "plt.clf()\n",
    "plt.plot(Goverc3s * total_mass[\"SXS:BBH:0317\"] * sxs_bbh_0317_mass1[:,0], total_mass[\"SXS:BBH:0317\"] * sxs_bbh_0317_mass1[:,1], label='Mass 1')\n",
    "plt.plot(Goverc3s * total_mass[\"SXS:BBH:0317\"] * sxs_bbh_0317_mass2[:,0], total_mass[\"SXS:BBH:0317\"] * sxs_bbh_0317_mass2[:,1], label='Mass 2')\n",
    "plt.plot(Goverc3s * total_mass[\"SXS:BBH:0317\"] * sxs_bbh_0317_massFinal[:,0], total_mass[\"SXS:BBH:0317\"] * sxs_bbh_0317_massFinal[:,1], label='Final mass')\n",
    "plt.legend(loc='best')\n",
    "plt.xlabel(\"Time (seconds)\")\n",
    "plt.ylabel(\"Mass (solar masses)\")\n",
    "plt.show()"
   ]
  },
  {
   "cell_type": "markdown",
   "metadata": {},
   "source": [
    "Challenge: add a curve for the total initial mass (sum of mass1 and mass 2)"
   ]
  },
  {
   "cell_type": "markdown",
   "metadata": {},
   "source": [
    "# Plot black hole orbits"
   ]
  },
  {
   "cell_type": "code",
   "execution_count": null,
   "metadata": {},
   "outputs": [],
   "source": [
    "sxs_bbh_0305_orbit1 = horizons_high_res[\"SXS:BBH:0305\"][\"AhA.dir\"][\"CoordCenterInertial.dat\"]\n",
    "sxs_bbh_0305_orbit2 = horizons_high_res[\"SXS:BBH:0305\"][\"AhB.dir\"][\"CoordCenterInertial.dat\"]\n",
    "sxs_bbh_0305_orbitFinal = horizons_high_res[\"SXS:BBH:0305\"][\"AhC.dir\"][\"CoordCenterInertial.dat\"]\n",
    "\n",
    "plt.clf()\n",
    "plt.plot(1e-3 * Goverc2m * total_mass[\"SXS:BBH:0305\"] * sxs_bbh_0305_orbit1[:,1], 1e-3 * Goverc2m * total_mass[\"SXS:BBH:0305\"] * sxs_bbh_0305_orbit1[:,2], label='Mass 1')\n",
    "plt.plot(1e-3 * Goverc2m * total_mass[\"SXS:BBH:0305\"] * sxs_bbh_0305_orbit2[:,1], 1e-3 * Goverc2m * total_mass[\"SXS:BBH:0305\"] * sxs_bbh_0305_orbit2[:,2], label='Mass 2')\n",
    "plt.legend(loc='lower left')\n",
    "plt.xlabel(\"x (km)\")\n",
    "plt.ylabel(\"y (km)\")\n",
    "\n",
    "plt.gca().set_aspect(1)\n",
    "plt.title(\"SXS:BBH:0305 (GW150914)\")\n",
    "plt.show()"
   ]
  },
  {
   "cell_type": "code",
   "execution_count": null,
   "metadata": {},
   "outputs": [],
   "source": [
    "sxs_bbh_0317_orbit1 = horizons_high_res[\"SXS:BBH:0317\"][\"AhA.dir\"][\"CoordCenterInertial.dat\"]\n",
    "sxs_bbh_0317_orbit2 = horizons_high_res[\"SXS:BBH:0317\"][\"AhB.dir\"][\"CoordCenterInertial.dat\"]\n",
    "sxs_bbh_0317_orbitFinal = horizons_high_res[\"SXS:BBH:0317\"][\"AhC.dir\"][\"CoordCenterInertial.dat\"]\n",
    "\n",
    "plt.clf()\n",
    "plt.plot(1e-3 * Goverc2m * total_mass[\"SXS:BBH:0317\"] * sxs_bbh_0317_orbit1[:,1], 1e-3 * Goverc2m * total_mass[\"SXS:BBH:0317\"] * sxs_bbh_0317_orbit1[:,2], label='Mass 1')\n",
    "plt.plot(1e-3 * Goverc2m * total_mass[\"SXS:BBH:0317\"] * sxs_bbh_0317_orbit2[:,1], 1e-3 * Goverc2m * total_mass[\"SXS:BBH:0317\"] * sxs_bbh_0317_orbit2[:,2], label='Mass 2')\n",
    "plt.legend(loc='lower left')\n",
    "plt.xlabel(\"x (km)\")\n",
    "plt.ylabel(\"y (km)\")\n",
    "plt.title(\"SXS:BBH:0317 (GW151226)\")\n",
    "\n",
    "plt.gca().set_aspect(1)\n",
    "plt.show()"
   ]
  },
  {
   "cell_type": "markdown",
   "metadata": {},
   "source": [
    "# Plot gravitational waves"
   ]
  },
  {
   "cell_type": "code",
   "execution_count": null,
   "metadata": {},
   "outputs": [],
   "source": [
    "gw_sxs_bbh_0305 = gw[\"SXS:BBH:0305\"][\"Extrapolated_N2.dir\"][\"Y_l2_m2.dat\"]\n",
    "gw_sxs_bbh_0317 = gw[\"SXS:BBH:0317\"][\"Extrapolated_N2.dir\"][\"Y_l2_m2.dat\"]"
   ]
  },
  {
   "cell_type": "code",
   "execution_count": null,
   "metadata": {},
   "outputs": [],
   "source": [
    "plt.clf()\n",
    "plt.plot(Goverc3s * total_mass[\"SXS:BBH:0305\"] * gw_sxs_bbh_0305[:,0], \n",
    "         1.0e21 * Goverc2m * (total_mass[\"SXS:BBH:0305\"] / distance[\"SXS:BBH:0305\"]) * gw_sxs_bbh_0305[:,1])\n",
    "plt.xlabel(\"Time (s)\")\n",
    "plt.ylabel(\"Detector strain (10^-21)\")\n",
    "plt.title(\"SXS:BBH:0305 (GW150914)\")\n",
    "\n",
    "plt.show()"
   ]
  },
  {
   "cell_type": "code",
   "execution_count": null,
   "metadata": {},
   "outputs": [],
   "source": [
    "plt.clf()\n",
    "plt.plot(Goverc3s * total_mass[\"SXS:BBH:0317\"] * gw_sxs_bbh_0317[:,0], \n",
    "         1.0e21 * Goverc2m * (total_mass[\"SXS:BBH:0317\"] / distance[\"SXS:BBH:0317\"]) * gw_sxs_bbh_0317[:,1])\n",
    "plt.xlabel(\"Time (s)\")\n",
    "plt.ylabel(\"Detector strain (10^-21)\")\n",
    "plt.title(\"SXS:BBH:0317 (GW151226)\")\n",
    "\n",
    "plt.show()"
   ]
  },
  {
   "cell_type": "markdown",
   "metadata": {},
   "source": [
    "# Compare initial and final masses at different resolutions"
   ]
  },
  {
   "cell_type": "code",
   "execution_count": null,
   "metadata": {},
   "outputs": [],
   "source": [
    "sxs_bbh_0305_init_mass_low = total_mass[\"SXS:BBH:0305\"] * (metadata_low_res[\"SXS:BBH:0305\"][\"reference_mass1\"] + metadata_low_res[\"SXS:BBH:0305\"][\"reference_mass2\"])\n",
    "sxs_bbh_0305_init_mass_medium = total_mass[\"SXS:BBH:0305\"] * (metadata_medium_res[\"SXS:BBH:0305\"][\"reference_mass1\"] + metadata_medium_res[\"SXS:BBH:0305\"][\"reference_mass2\"])\n",
    "sxs_bbh_0305_init_mass_high = total_mass[\"SXS:BBH:0305\"] * (metadata_high_res[\"SXS:BBH:0305\"][\"reference_mass1\"] + metadata_high_res[\"SXS:BBH:0305\"][\"reference_mass2\"])\n",
    "\n",
    "sxs_bbh_0305_final_mass_low = total_mass[\"SXS:BBH:0305\"] * (metadata_low_res[\"SXS:BBH:0305\"][\"remnant_mass\"])\n",
    "sxs_bbh_0305_final_mass_medium = total_mass[\"SXS:BBH:0305\"] * (metadata_medium_res[\"SXS:BBH:0305\"][\"remnant_mass\"])\n",
    "sxs_bbh_0305_final_mass_high = total_mass[\"SXS:BBH:0305\"] * (metadata_high_res[\"SXS:BBH:0305\"][\"remnant_mass\"])\n",
    "\n",
    "print(\"SXS:BBH:0305 (GW150914)\\n\")\n",
    "\n",
    "print(\"Low resolution: Initial mass (solar masses): \" + str(sxs_bbh_0305_init_mass_low))\n",
    "print(\"Medium resolution: Initial mass (solar masses): \" + str(sxs_bbh_0305_init_mass_medium))\n",
    "print(\"High resolution: Initial mass (solar masses): \" + str(sxs_bbh_0305_init_mass_high))\n",
    "\n",
    "print (\" \")\n",
    "\n",
    "print(\"Low resolution: Initial mass (solar masses): \" + str(sxs_bbh_0305_final_mass_low))\n",
    "print(\"Medium resolution: Initial mass (solar masses): \" + str(sxs_bbh_0305_final_mass_medium))\n",
    "print(\"High resolution: Initial mass (solar masses): \" + str(sxs_bbh_0305_final_mass_high))"
   ]
  },
  {
   "cell_type": "code",
   "execution_count": null,
   "metadata": {},
   "outputs": [],
   "source": [
    "sxs_bbh_0317_init_mass_low = total_mass[\"SXS:BBH:0317\"] * (metadata_low_res[\"SXS:BBH:0305\"][\"reference_mass1\"] + metadata_low_res[\"SXS:BBH:0305\"][\"reference_mass2\"])\n",
    "sxs_bbh_0317_init_mass_medium = total_mass[\"SXS:BBH:0317\"] * (metadata_medium_res[\"SXS:BBH:0305\"][\"reference_mass1\"] + metadata_medium_res[\"SXS:BBH:0305\"][\"reference_mass2\"])\n",
    "sxs_bbh_0317_init_mass_high = total_mass[\"SXS:BBH:0317\"] * (metadata_high_res[\"SXS:BBH:0305\"][\"reference_mass1\"] + metadata_high_res[\"SXS:BBH:0305\"][\"reference_mass2\"])\n",
    "\n",
    "sxs_bbh_0317_final_mass_low = total_mass[\"SXS:BBH:0317\"] * (metadata_low_res[\"SXS:BBH:0317\"][\"remnant_mass\"])\n",
    "sxs_bbh_0317_final_mass_medium = total_mass[\"SXS:BBH:0317\"] * (metadata_medium_res[\"SXS:BBH:0317\"][\"remnant_mass\"])\n",
    "sxs_bbh_0317_final_mass_high = total_mass[\"SXS:BBH:0317\"] * (metadata_high_res[\"SXS:BBH:0317\"][\"remnant_mass\"])\n",
    "\n",
    "print(\"SXS:BBH:0317 (GW151226)\\n\")\n",
    "\n",
    "print(\"Low resolution: Initial mass (solar masses): \" + str(sxs_bbh_0317_init_mass_low))\n",
    "print(\"Medium resolution: Initial mass (solar masses): \" + str(sxs_bbh_0317_init_mass_medium))\n",
    "print(\"High resolution: Initial mass (solar masses): \" + str(sxs_bbh_0317_init_mass_high))\n",
    "\n",
    "print (\" \")\n",
    "\n",
    "print(\"Low resolution: Initial mass (solar masses): \" + str(sxs_bbh_0317_final_mass_low))\n",
    "print(\"Medium resolution: Initial mass (solar masses): \" + str(sxs_bbh_0317_final_mass_medium))\n",
    "print(\"High resolution: Initial mass (solar masses): \" + str(sxs_bbh_0317_final_mass_high))"
   ]
  },
  {
   "cell_type": "markdown",
   "metadata": {},
   "source": [
    "# Make sound for gravitational waves"
   ]
  },
  {
   "cell_type": "code",
   "execution_count": null,
   "metadata": {},
   "outputs": [],
   "source": [
    "t305 = Goverc3s * total_mass[\"SXS:BBH:0305\"] * gw_sxs_bbh_0305[:,0]\n",
    "h305 = 1.0e21 * Goverc2m * (total_mass[\"SXS:BBH:0305\"] / distance[\"SXS:BBH:0305\"]) * gw_sxs_bbh_0305[:,1]\n",
    "maxh305 = max(h305)\n",
    "\n",
    "t317 = Goverc3s * total_mass[\"SXS:BBH:0317\"] * gw_sxs_bbh_0317[:,0]\n",
    "h317 = 1.0e21 * Goverc2m * (total_mass[\"SXS:BBH:0317\"] / distance[\"SXS:BBH:0317\"]) * gw_sxs_bbh_0317[:,1]\n",
    "maxh317 = max(h317)"
   ]
  },
  {
   "cell_type": "code",
   "execution_count": null,
   "metadata": {},
   "outputs": [],
   "source": [
    "from scipy.interpolate import interp1d\n",
    "\n",
    "sample_rate = 1e4 #Hz\n",
    "h305interp = interp1d(t305, h305)(np.arange(t305[0], t305[-1], 1.0 / sample_rate))\n",
    "h317interp = interp1d(t317, h317)(np.arange(t317[0], t317[-1], 1.0 / sample_rate))\n",
    "\n",
    "from scipy.io import wavfile\n",
    "wavfile.write(\"SXS_BBH_0305.wav\", int(sample_rate), h305interp / maxh305)\n",
    "wavfile.write(\"SXS_BBH_0317.wav\", int(sample_rate), h317interp / maxh317)"
   ]
  },
  {
   "cell_type": "code",
   "execution_count": null,
   "metadata": {},
   "outputs": [],
   "source": []
  }
 ],
 "metadata": {
  "kernelspec": {
   "display_name": "Python 3",
   "language": "python",
   "name": "python3"
  },
  "language_info": {
   "codemirror_mode": {
    "name": "ipython",
    "version": 3
   },
   "file_extension": ".py",
   "mimetype": "text/x-python",
   "name": "python",
   "nbconvert_exporter": "python",
   "pygments_lexer": "ipython3",
   "version": "3.6.8"
  }
 },
 "nbformat": 4,
 "nbformat_minor": 2
}
