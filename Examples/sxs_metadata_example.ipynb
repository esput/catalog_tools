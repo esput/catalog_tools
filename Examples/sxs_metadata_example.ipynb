{
 "cells": [
  {
   "cell_type": "markdown",
   "metadata": {},
   "source": [
    "# sxs_metadata_example.ipynb"
   ]
  },
  {
   "cell_type": "markdown",
   "metadata": {},
   "source": [
    "This notebook demonstrates how to download and parse the metadata provided by https://data.black-holes.org/catalog.json. This metadata is automatically updated when the catalog data is updated."
   ]
  },
  {
   "cell_type": "markdown",
   "metadata": {},
   "source": [
    "First, download the latest version of the ancilliary JSON file."
   ]
  },
  {
   "cell_type": "code",
   "execution_count": null,
   "metadata": {},
   "outputs": [],
   "source": [
    "import requests\n",
    "import json\n",
    "import numpy as np\n",
    "from matplotlib import pyplot as plt"
   ]
  },
  {
   "cell_type": "code",
   "execution_count": null,
   "metadata": {},
   "outputs": [],
   "source": [
    "request = requests.get(\"https://data.black-holes.org/catalog.json\", headers={'accept': 'application/citeproc+json'})\n",
    "sxs_full_json = request.json()\n",
    "for key in sxs_full_json.keys():\n",
    "    print(key)"
   ]
  },
  {
   "cell_type": "markdown",
   "metadata": {},
   "source": [
    "## Catalog file description\n",
    "\n",
    "The 'catalog_file_description' key is a README documenting the contents of the file."
   ]
  },
  {
   "cell_type": "code",
   "execution_count": null,
   "metadata": {},
   "outputs": [],
   "source": [
    "description = \"\"\n",
    "for line in sxs_full_json['catalog_file_description']:\n",
    "    description += line + \"\\n\"\n",
    "print(description)"
   ]
  },
  {
   "cell_type": "markdown",
   "metadata": {},
   "source": [
    "## Simulation metadata"
   ]
  },
  {
   "cell_type": "markdown",
   "metadata": {},
   "source": [
    "The 'simulations' key contains a dictionary, where each key has the form SXS:TYPE:####, where #### is a 4-digit integer and TYPE is BBH, BNS, or BHNS. This is the same data provided by https://arxiv.org/src/1904.04831/anc/sxs_catalog.json."
   ]
  },
  {
   "cell_type": "code",
   "execution_count": null,
   "metadata": {},
   "outputs": [],
   "source": [
    "sxs_catalog_json = sxs_full_json['simulations']"
   ]
  },
  {
   "cell_type": "markdown",
   "metadata": {},
   "source": [
    "These are the available keys for each simulation."
   ]
  },
  {
   "cell_type": "code",
   "execution_count": null,
   "metadata": {},
   "outputs": [],
   "source": [
    "for key in sorted(sxs_catalog_json['SXS:BBH:0444'].keys()):\n",
    "    print(key)"
   ]
  },
  {
   "cell_type": "markdown",
   "metadata": {},
   "source": [
    "Here's an example of processing the metadata: find the N simulations with mass ratio closest to a desired value."
   ]
  },
  {
   "cell_type": "code",
   "execution_count": null,
   "metadata": {},
   "outputs": [],
   "source": [
    "desired_mass_ratio = 4.444\n",
    "N = 4\n",
    "\n",
    "sxs_ids = np.array(sorted(list(sxs_catalog_json.keys())))\n",
    "mass_ratios_list = []\n",
    "for sxs_id in sxs_ids:\n",
    "    if sxs_id.split(\":\")[-2] == \"BBH\":\n",
    "        mass_ratios_list.append(sxs_catalog_json[sxs_id]['reference_mass_ratio'])\n",
    "mass_ratios = np.array(mass_ratios_list)\n",
    "\n",
    "mass_ratio_residual_sort = np.argsort(np.abs(mass_ratios - desired_mass_ratio))\n",
    "\n",
    "closest_N_simulations = sxs_ids[mass_ratio_residual_sort][:N]\n",
    "closest_N_massratios = mass_ratios[mass_ratio_residual_sort][:N]\n",
    "print(closest_N_simulations)\n",
    "print(closest_N_massratios)"
   ]
  },
  {
   "cell_type": "markdown",
   "metadata": {},
   "source": [
    "Make a plot of mass ratio vs. chi_eff for all available simulations."
   ]
  },
  {
   "cell_type": "code",
   "execution_count": null,
   "metadata": {},
   "outputs": [],
   "source": [
    "chieff_list = []\n",
    "for sxs_id in sxs_ids:\n",
    "    if sxs_id.split(\":\")[-2] == \"BBH\":\n",
    "        chieff_list.append(sxs_catalog_json[sxs_id]['reference_chi_eff'])\n",
    "chieff = np.array(chieff_list)"
   ]
  },
  {
   "cell_type": "code",
   "execution_count": null,
   "metadata": {},
   "outputs": [],
   "source": [
    "plt.clf()\n",
    "plt.plot(mass_ratios, chieff, marker='o', linestyle='', markersize=1.0)\n",
    "plt.xlabel(\"Mass ratio\")\n",
    "plt.ylabel(\"$\\chi_{eff}$\")\n",
    "plt.show()"
   ]
  },
  {
   "cell_type": "markdown",
   "metadata": {},
   "source": [
    "## Records metadata"
   ]
  },
  {
   "cell_type": "markdown",
   "metadata": {},
   "source": [
    "The 'records' key contains a dictionary of metadata for each zenodo record, keyed by record doi."
   ]
  },
  {
   "cell_type": "code",
   "execution_count": null,
   "metadata": {},
   "outputs": [],
   "source": [
    "doi = sxs_catalog_json['SXS:BBH:0444']['url']"
   ]
  },
  {
   "cell_type": "markdown",
   "metadata": {},
   "source": [
    "Available keys for each record are the following:"
   ]
  },
  {
   "cell_type": "code",
   "execution_count": null,
   "metadata": {},
   "outputs": [],
   "source": [
    "for key in sxs_full_json['records'][doi].keys():\n",
    "    print(key)"
   ]
  },
  {
   "cell_type": "markdown",
   "metadata": {},
   "source": [
    "This example prints a table of available files for a simulation, along with clickable links to download them."
   ]
  },
  {
   "cell_type": "code",
   "execution_count": null,
   "metadata": {},
   "outputs": [],
   "source": [
    "files = sxs_full_json['records'][doi]['files']\n",
    "for file in files:\n",
    "    print(file['filename']+\" \"+file['links']['download'] + \"\\n\")"
   ]
  },
  {
   "cell_type": "code",
   "execution_count": null,
   "metadata": {},
   "outputs": [],
   "source": []
  }
 ],
 "metadata": {
  "kernelspec": {
   "display_name": "Python 3",
   "language": "python",
   "name": "python3"
  },
  "language_info": {
   "codemirror_mode": {
    "name": "ipython",
    "version": 3
   },
   "file_extension": ".py",
   "mimetype": "text/x-python",
   "name": "python",
   "nbconvert_exporter": "python",
   "pygments_lexer": "ipython3",
   "version": "3.7.1"
  }
 },
 "nbformat": 4,
 "nbformat_minor": 2
}
